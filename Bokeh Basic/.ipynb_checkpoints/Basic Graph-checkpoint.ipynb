{
 "cells": [
  {
   "cell_type": "code",
   "execution_count": 1,
   "metadata": {},
   "outputs": [],
   "source": [
    "# Making a basic Bokeh graph\n",
    "\n",
    "# Importing Bokeh\n",
    "from bokeh.plotting import figure\n",
    "from bokeh.io import output_file, show"
   ]
  },
  {
   "cell_type": "code",
   "execution_count": 2,
   "metadata": {},
   "outputs": [],
   "source": [
    "# prepare data\n",
    "x = [1, 2, 3, 4, 5]\n",
    "y = [6, 7, 8, 9, 10]"
   ]
  },
  {
   "cell_type": "code",
   "execution_count": 3,
   "metadata": {},
   "outputs": [],
   "source": [
    "# output to static HTML file\n",
    "output_file(\"lines.html\")"
   ]
  },
  {
   "cell_type": "code",
   "execution_count": 4,
   "metadata": {},
   "outputs": [],
   "source": [
    "# Create a figure object\n",
    "\n",
    "f = figure(title=\"simple line example\", x_axis_label='x', y_axis_label='y')\n",
    "\n",
    "\n",
    "# Create line plot\n",
    "f.line(x,y, legend_label= 'Temp.', line_width=2)\n",
    "\n",
    "show(f)"
   ]
  },
  {
   "cell_type": "code",
   "execution_count": 5,
   "metadata": {},
   "outputs": [],
   "source": [
    "# Making circle points\n",
    "\n",
    "# output to static HTML file\n",
    "output_file(\"circle.html\")\n",
    "\n",
    "# Create a figure object\n",
    "c = figure(title=\"simple circle example\")\n",
    "\n",
    "# Add a circle renderer with a size, color, and alpha\n",
    "c.circle(x,y, size=20, color='navy', alpha=0.5, legend_label='Temp.')\n",
    "\n",
    "# show the results\n",
    "show(c)"
   ]
  },
  {
   "cell_type": "code",
   "execution_count": 6,
   "metadata": {},
   "outputs": [],
   "source": [
    "# Making square points\n",
    "\n",
    "# output to static HTML file\n",
    "output_file(\"square.html\")\n",
    "\n",
    "# Create a figure object\n",
    "s = figure(title=\"simple square example\")\n",
    "\n",
    "# Add a circle renderer with a size, color, and alpha\n",
    "s.square(x,y, size=20, color='olive', alpha=0.5, legend_label='Temp.')\n",
    "\n",
    "# show the results\n",
    "show(s)"
   ]
  },
  {
   "cell_type": "code",
   "execution_count": 7,
   "metadata": {},
   "outputs": [],
   "source": [
    "# Making triangle points\n",
    "\n",
    "# output to static HTML file\n",
    "output_file(\"triangle.html\")\n",
    "\n",
    "# Create a figure object\n",
    "t = figure(title=\"simple triangle example\")\n",
    "\n",
    "# Add a circle renderer with a size, color, and alpha\n",
    "t.triangle(x,y, size=20, color='navy', alpha=0.5, legend_label='Temp.')\n",
    "\n",
    "# show the results\n",
    "show(t)"
   ]
  },
  {
   "cell_type": "code",
   "execution_count": null,
   "metadata": {},
   "outputs": [],
   "source": []
  }
 ],
 "metadata": {
  "kernelspec": {
   "display_name": "Python 3",
   "language": "python",
   "name": "python3"
  },
  "language_info": {
   "codemirror_mode": {
    "name": "ipython",
    "version": 3
   },
   "file_extension": ".py",
   "mimetype": "text/x-python",
   "name": "python",
   "nbconvert_exporter": "python",
   "pygments_lexer": "ipython3",
   "version": "3.8.3"
  }
 },
 "nbformat": 4,
 "nbformat_minor": 4
}
